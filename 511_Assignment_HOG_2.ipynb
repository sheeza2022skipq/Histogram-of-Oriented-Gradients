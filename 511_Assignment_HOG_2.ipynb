{
  "cells": [
    {
      "cell_type": "code",
      "execution_count": 1,
      "metadata": {
        "colab": {
          "base_uri": "https://localhost:8080/"
        },
        "id": "D6rtjUTgKThQ",
        "outputId": "638b62bc-3e09-492c-886d-2430b76d7716"
      },
      "outputs": [
        {
          "output_type": "stream",
          "name": "stdout",
          "text": [
            "Mounted at /content/drive\n"
          ]
        }
      ],
      "source": [
        "from google.colab import drive\n",
        "drive.mount('/content/drive')"
      ],
      "id": "D6rtjUTgKThQ"
    },
    {
      "cell_type": "code",
      "execution_count": 2,
      "metadata": {
        "id": "38e11df0"
      },
      "outputs": [],
      "source": [
        "import numpy as np \n",
        "import joblib,glob,os,cv2\n",
        "from scipy.ndimage import filters\n",
        "from sklearn.model_selection import train_test_split\n",
        "from sklearn.svm import SVC\n",
        "import matplotlib.pyplot as plt"
      ],
      "id": "38e11df0"
    },
    {
      "cell_type": "code",
      "execution_count": 3,
      "metadata": {
        "id": "7eebf161"
      },
      "outputs": [],
      "source": [
        "def get_gradient(im_dx, im_dy): \n",
        "    assert im_dx.shape == im_dy.shape\n",
        "    m, n = im_dx.shape\n",
        "    grad_mag = np.zeros((m, n))\n",
        "    grad_angle = np.zeros((m, n))\n",
        "    for i in range(m):\n",
        "        for j in range(n):\n",
        "            grad_mag[i][j] = np.sqrt(im_dx[i][j] ** 2 + im_dy[i][j] ** 2)\n",
        "            grad_angle[i][j] = np.arctan2(im_dy[i][j], im_dx[i][j])\n",
        "    return grad_mag, grad_angle"
      ],
      "id": "7eebf161"
    },
    {
      "cell_type": "code",
      "source": [
        "# check angle in the bin array:\n",
        "def checkAngle(bins, angle):\n",
        "  if angle not in bins: return -1\n",
        "  if angle in bins: return bins.index(angle)"
      ],
      "metadata": {
        "id": "cx3qFflr-9pn"
      },
      "id": "cx3qFflr-9pn",
      "execution_count": 4,
      "outputs": []
    },
    {
      "cell_type": "code",
      "source": [
        "def get_angle_proportion(bins,direc,mag,bs): # bs is bin_size, mag is magnitude, direc is direction\n",
        "\n",
        "    prop1=abs((bins[0]-direc))\n",
        "    prop2=abs((bins[1]-direc))\n",
        "\n",
        "    if prop1<prop2:\n",
        "      prop1=(prop1/bs)*mag\n",
        "      prop2=(prop2/bs)*mag\n",
        "      keys=[bins[0],prop1,bins[1],prop2] # [bins[0]:prop1, bins[1]:prop2] \n",
        "    else:\n",
        "      prop1=(prop1/bs)*mag\n",
        "      prop2=(prop2/bs)*mag\n",
        "      keys=[bins[0],prop2,bins[1],prop1]\n",
        "    return keys\n",
        "    "
      ],
      "metadata": {
        "id": "K8Mkt4Yz-3t3"
      },
      "id": "K8Mkt4Yz-3t3",
      "execution_count": 5,
      "outputs": []
    },
    {
      "cell_type": "code",
      "execution_count": 6,
      "metadata": {
        "id": "9a219cee"
      },
      "outputs": [],
      "source": [
        "# get bins index for the direction:\n",
        "def get_angle_bin(bins, angle):\n",
        "  if angle<0:\n",
        "    #print(\"before\",angle)\n",
        "    angle= angle*-1\n",
        "    #print(\"after\",angle)\n",
        "\n",
        "  if 0 < angle < 20: \n",
        "    bins=[0,20]\n",
        "    return bins\n",
        "  elif 20 <= angle < 40:\n",
        "    bins=[20,40]\n",
        "    return bins \n",
        "  elif 40 <= angle < 60:\n",
        "    bins=[40,60]\n",
        "    return bins \n",
        "  elif 60 <= angle < 80:\n",
        "    bins=[60,80]\n",
        "    return bins \n",
        "  elif 80 <= angle < 100:\n",
        "    bins=[80,100]\n",
        "    return bins \n",
        "  elif 100 <= angle < 120:\n",
        "    bins=[100,120]\n",
        "    return bins \n",
        "  elif 120 <= angle < 140:\n",
        "    bins=[120,140]\n",
        "    return bins \n",
        "  elif 140 <= angle < 160:\n",
        "    bins=[140,160]\n",
        "    return bins \n",
        "  elif 160 <= angle <= 180:\n",
        "    bins=[160,180]\n",
        "    return bins \n",
        "  print(\"nooo\",angle)"
      ],
      "id": "9a219cee"
    },
    {
      "cell_type": "code",
      "source": [
        ""
      ],
      "metadata": {
        "id": "NZVC7-Z5-u3A"
      },
      "id": "NZVC7-Z5-u3A",
      "execution_count": 6,
      "outputs": []
    },
    {
      "cell_type": "code",
      "execution_count": 7,
      "metadata": {
        "id": "7db89260"
      },
      "outputs": [],
      "source": [
        "# calculating the histogram of Gradients in 8×8 cells\n",
        "\n",
        "# histogram of 9 bins with 20 degrees difference: 0,20, 40, 60, 80, 100, 120, 140, 160\n",
        "def build_histogram(magnitude, direction, cell_size):\n",
        "  bin_size = 9\n",
        "  cell_size=cell_size\n",
        "  bins=[0,20, 40, 60, 80, 100, 120, 140, 160]\n",
        "  \n",
        "  row,col=magnitude.shape\n",
        "  row = int(row / cell_size)\n",
        "  col = int(col / cell_size)\n",
        "  histogram=np.zeros((row,col, bin_size))\n",
        "  for i in range(row):\n",
        "    for j in range(col):\n",
        "      for ii in range(cell_size):\n",
        "        for jj in range(cell_size):\n",
        "          index=checkAngle(bins,direction[i * cell_size + ii][j * cell_size + jj])\n",
        "          if index!=-1:\n",
        "            histogram[i][j][index]= histogram[i][j][index] + magnitude[i * cell_size + ii][j * cell_size + jj]\n",
        "          else:\n",
        "            angle_bins=get_angle_bin(bins,direction[i * cell_size + ii][j * cell_size + jj])\n",
        "            proportion=get_angle_proportion(angle_bins,direction[i * cell_size + ii][j * cell_size + jj],magnitude[i * cell_size + ii][j * cell_size + jj],bin_size)\n",
        "            index1=checkAngle(bins,proportion[0])\n",
        "            index2=checkAngle(bins,proportion[2])\n",
        "            if index1 == 180:\n",
        "              index1= 0\n",
        "            if index2 == 180:\n",
        "              index2 =0\n",
        "            histogram[i][j][index1]= histogram[i][j][index1] + proportion[1]\n",
        "            histogram[i][j][index2]= histogram[i][j][index2] + proportion[3]\n",
        "  return histogram  "
      ],
      "id": "7db89260"
    },
    {
      "cell_type": "code",
      "execution_count": 8,
      "metadata": {
        "id": "035fbc35"
      },
      "outputs": [],
      "source": [
        "def get_block_descriptor(ori_histo, block_size):\n",
        "    M, N, bins = ori_histo.shape\n",
        "    e = 0.001\n",
        "    ori_histo_normalized = np.zeros((M - block_size + 1, N - block_size + 1, bins * block_size * block_size))\n",
        "    for i in range(M - block_size + 1):\n",
        "        for j in range(N - block_size + 1):\n",
        "            unnormalized = []\n",
        "            for x in range(block_size):\n",
        "                for y in range(block_size):\n",
        "                    for z in range(bins):\n",
        "                        unnormalized.append(ori_histo[i + x][j + y][z])\n",
        "            unnormalized = np.asarray(unnormalized)\n",
        "            den = np.sqrt(np.sum(unnormalized ** 2) + e ** 2)\n",
        "            normalized = unnormalized / den\n",
        "            for p in range(bins * block_size * block_size):\n",
        "                ori_histo_normalized[i][j][p] = normalized[p]\n",
        "            return ori_histo_normalized"
      ],
      "id": "035fbc35"
    },
    {
      "cell_type": "code",
      "execution_count": 9,
      "metadata": {
        "id": "f14b1a0f"
      },
      "outputs": [],
      "source": [
        "data = []\n",
        "labels = []\n",
        "human_im_path = '/content/drive/My Drive/Dataset/DATAIMAGE/human/'\n",
        "nonhuman_im_path = '/content/drive/My Drive/Dataset/DATAIMAGE/nonhuman/'\n"
      ],
      "id": "f14b1a0f"
    },
    {
      "cell_type": "code",
      "execution_count": 10,
      "metadata": {
        "id": "a3dcca42"
      },
      "outputs": [],
      "source": [
        "# Load the positive features\n",
        "for filename in glob.glob(os.path.join(human_im_path,\"*.png\")):\n",
        "    im = cv2.imread(filename,0)\n",
        "    im = cv2.resize(im,(64,128))\n",
        "    im_dx = filters.gaussian_filter(im,(3,3),(1,0))\n",
        "    im_dy = filters.gaussian_filter(im,(3,3),(0,1))\n",
        "    grad_mag, grad_angle = get_gradient(im_dx, im_dy)\n",
        "    ori_histo = build_histogram(grad_mag, grad_angle, 8)\n",
        "    ori_histo_normalized = get_block_descriptor(ori_histo, 2)\n",
        "    hog = ori_histo_normalized.reshape((-1))\n",
        "    data.append(hog)\n",
        "    labels.append(1)\n"
      ],
      "id": "a3dcca42"
    },
    {
      "cell_type": "code",
      "execution_count": 11,
      "metadata": {
        "id": "BZsOgArVxgAt",
        "colab": {
          "base_uri": "https://localhost:8080/"
        },
        "outputId": "17a3c955-3bb2-4265-ecc4-7cbb8c0a5167"
      },
      "outputs": [
        {
          "output_type": "execute_result",
          "data": {
            "text/plain": [
              "(128, 64)"
            ]
          },
          "metadata": {},
          "execution_count": 11
        }
      ],
      "source": [
        "im_dx.shape"
      ],
      "id": "BZsOgArVxgAt"
    },
    {
      "cell_type": "code",
      "execution_count": 12,
      "metadata": {
        "id": "lKGiJt4RxknP",
        "colab": {
          "base_uri": "https://localhost:8080/"
        },
        "outputId": "c171caf9-2146-4af8-bf50-3620e68c0c23"
      },
      "outputs": [
        {
          "output_type": "execute_result",
          "data": {
            "text/plain": [
              "(128, 64)"
            ]
          },
          "metadata": {},
          "execution_count": 12
        }
      ],
      "source": [
        "im_dy.shape"
      ],
      "id": "lKGiJt4RxknP"
    },
    {
      "cell_type": "code",
      "source": [
        "grad_mag.shape"
      ],
      "metadata": {
        "colab": {
          "base_uri": "https://localhost:8080/"
        },
        "id": "FYChSpMD8F5C",
        "outputId": "27910bf9-36b5-4e11-a376-27fd90017e37"
      },
      "id": "FYChSpMD8F5C",
      "execution_count": 13,
      "outputs": [
        {
          "output_type": "execute_result",
          "data": {
            "text/plain": [
              "(128, 64)"
            ]
          },
          "metadata": {},
          "execution_count": 13
        }
      ]
    },
    {
      "cell_type": "code",
      "source": [
        "grad_angle.shape"
      ],
      "metadata": {
        "colab": {
          "base_uri": "https://localhost:8080/"
        },
        "id": "_2UbJdtj8GF6",
        "outputId": "4a7f769c-bcae-4f34-cb8e-ea3cfbebe551"
      },
      "id": "_2UbJdtj8GF6",
      "execution_count": 14,
      "outputs": [
        {
          "output_type": "execute_result",
          "data": {
            "text/plain": [
              "(128, 64)"
            ]
          },
          "metadata": {},
          "execution_count": 14
        }
      ]
    },
    {
      "cell_type": "code",
      "execution_count": 15,
      "metadata": {
        "id": "caB9wY_Za544",
        "colab": {
          "base_uri": "https://localhost:8080/"
        },
        "outputId": "c83bdfb3-a432-4a76-af35-640254030332"
      },
      "outputs": [
        {
          "output_type": "execute_result",
          "data": {
            "text/plain": [
              "(16, 8, 9)"
            ]
          },
          "metadata": {},
          "execution_count": 15
        }
      ],
      "source": [
        "ori_histo.shape"
      ],
      "id": "caB9wY_Za544"
    },
    {
      "cell_type": "code",
      "execution_count": 16,
      "metadata": {
        "id": "HXBxRV5NxGMA",
        "colab": {
          "base_uri": "https://localhost:8080/"
        },
        "outputId": "9183c3ec-b4ce-4f7e-83de-93a1936e3f65"
      },
      "outputs": [
        {
          "output_type": "execute_result",
          "data": {
            "text/plain": [
              "(15, 7, 36)"
            ]
          },
          "metadata": {},
          "execution_count": 16
        }
      ],
      "source": [
        "ori_histo_normalized.shape"
      ],
      "id": "HXBxRV5NxGMA"
    },
    {
      "cell_type": "code",
      "execution_count": 17,
      "metadata": {
        "id": "YeAzIxsCcBz_",
        "colab": {
          "base_uri": "https://localhost:8080/"
        },
        "outputId": "7f5e4487-6210-464f-8169-1edbcfa4e222"
      },
      "outputs": [
        {
          "output_type": "execute_result",
          "data": {
            "text/plain": [
              "2426"
            ]
          },
          "metadata": {},
          "execution_count": 17
        }
      ],
      "source": [
        "len(data)"
      ],
      "id": "YeAzIxsCcBz_"
    },
    {
      "cell_type": "code",
      "execution_count": 18,
      "metadata": {
        "id": "49f2df34"
      },
      "outputs": [],
      "source": [
        "# Load the positive features\n",
        "for filename in glob.glob(os.path.join(nonhuman_im_path,\"*.jpg\")):\n",
        "    im = cv2.imread(filename,0)\n",
        "    im = cv2.resize(im,(64,128))\n",
        "    im_dx = filters.gaussian_filter(im,(3,3),(1,0))\n",
        "    im_dy = filters.gaussian_filter(im,(3,3),(0,1))\n",
        "    grad_mag, grad_angle = get_gradient(im_dx, im_dy)\n",
        "    ori_histo = build_histogram(grad_mag, grad_angle, 8)\n",
        "    ori_histo_normalized = get_block_descriptor(ori_histo, 2)\n",
        "    hog = ori_histo_normalized.reshape((-1))\n",
        "    data.append(hog)\n",
        "    labels.append(0)"
      ],
      "id": "49f2df34"
    },
    {
      "cell_type": "code",
      "execution_count": 19,
      "metadata": {
        "id": "BrlQC89TcOi_",
        "colab": {
          "base_uri": "https://localhost:8080/"
        },
        "outputId": "ff16f0a3-e82f-4b11-8043-c493943bba10"
      },
      "outputs": [
        {
          "output_type": "execute_result",
          "data": {
            "text/plain": [
              "5660"
            ]
          },
          "metadata": {},
          "execution_count": 19
        }
      ],
      "source": [
        "len(data)"
      ],
      "id": "BrlQC89TcOi_"
    },
    {
      "cell_type": "code",
      "execution_count": 20,
      "metadata": {
        "id": "uBoBTMoIKgJx",
        "colab": {
          "base_uri": "https://localhost:8080/"
        },
        "outputId": "2374d61e-2799-49f9-cf6e-30a0331d9d8e"
      },
      "outputs": [
        {
          "output_type": "stream",
          "name": "stdout",
          "text": [
            "Labels for training and testing data\n",
            "3961\n",
            "1698\n"
          ]
        }
      ],
      "source": [
        "train_data, test_data, train_labels, test_labels = train_test_split(data, labels, \n",
        "                                                    train_size=0.7,\n",
        "                                                    test_size=0.3,\n",
        "                                                    random_state=0)\n",
        "print(\"Labels for training and testing data\")\n",
        "print(len(train_data))\n",
        "print(len(test_data))"
      ],
      "id": "uBoBTMoIKgJx"
    },
    {
      "cell_type": "code",
      "execution_count": 21,
      "metadata": {
        "id": "vPi7OYx5Tf9-",
        "colab": {
          "base_uri": "https://localhost:8080/"
        },
        "outputId": "7f67c645-8598-40fc-e875-afaa73a1919a"
      },
      "outputs": [
        {
          "output_type": "stream",
          "name": "stdout",
          "text": [
            "3961\n",
            "1698\n"
          ]
        }
      ],
      "source": [
        "print(len(train_labels))\n",
        "print(len(test_labels))"
      ],
      "id": "vPi7OYx5Tf9-"
    },
    {
      "cell_type": "code",
      "execution_count": 22,
      "metadata": {
        "id": "eb968c2d",
        "colab": {
          "base_uri": "https://localhost:8080/"
        },
        "outputId": "32e094de-4b91-4329-8197-a31e21bfbddb"
      },
      "outputs": [
        {
          "output_type": "execute_result",
          "data": {
            "text/plain": [
              "(3780,)"
            ]
          },
          "metadata": {},
          "execution_count": 22
        }
      ],
      "source": [
        "hog.shape"
      ],
      "id": "eb968c2d"
    },
    {
      "cell_type": "code",
      "execution_count": 23,
      "metadata": {
        "id": "wvuo2PNQVodA",
        "colab": {
          "base_uri": "https://localhost:8080/"
        },
        "outputId": "37a05ea7-b424-4e56-dae8-e6671d826610"
      },
      "outputs": [
        {
          "output_type": "stream",
          "name": "stdout",
          "text": [
            "[0 1]\n"
          ]
        }
      ],
      "source": [
        "labels = np.unique(train_labels)\n",
        "print(labels) "
      ],
      "id": "wvuo2PNQVodA"
    },
    {
      "cell_type": "code",
      "execution_count": 24,
      "metadata": {
        "id": "YLebOgFuKgMr"
      },
      "outputs": [],
      "source": [
        "model = SVC(C = 1, kernel='linear')"
      ],
      "id": "YLebOgFuKgMr"
    },
    {
      "cell_type": "code",
      "execution_count": 25,
      "metadata": {
        "id": "zJQeYNBoKgO9",
        "colab": {
          "base_uri": "https://localhost:8080/"
        },
        "outputId": "7f697d3d-490c-4196-8572-002beb3776f3"
      },
      "outputs": [
        {
          "output_type": "execute_result",
          "data": {
            "text/plain": [
              "SVC(C=1, kernel='linear')"
            ]
          },
          "metadata": {},
          "execution_count": 25
        }
      ],
      "source": [
        "model.fit(train_data, train_labels)"
      ],
      "id": "zJQeYNBoKgO9"
    },
    {
      "cell_type": "code",
      "execution_count": 26,
      "metadata": {
        "id": "rPYOhMjGStrC",
        "colab": {
          "base_uri": "https://localhost:8080/"
        },
        "outputId": "fe3784c2-c09c-403f-fdbd-e7c54cd3b562"
      },
      "outputs": [
        {
          "output_type": "stream",
          "name": "stdout",
          "text": [
            "[1 0 1 ... 1 1 0]\n"
          ]
        }
      ],
      "source": [
        "predictions = model.predict(test_data)\n",
        "print(predictions)"
      ],
      "id": "rPYOhMjGStrC"
    },
    {
      "cell_type": "code",
      "execution_count": 27,
      "metadata": {
        "id": "-WofW5_lStuS"
      },
      "outputs": [],
      "source": [
        "percentage = model.score(test_data, test_labels)"
      ],
      "id": "-WofW5_lStuS"
    },
    {
      "cell_type": "code",
      "execution_count": 30,
      "metadata": {
        "id": "JZsOd812SzAz",
        "colab": {
          "base_uri": "https://localhost:8080/"
        },
        "outputId": "43914404-e398-4ea1-998e-dfff183720a8"
      },
      "outputs": [
        {
          "output_type": "stream",
          "name": "stdout",
          "text": [
            "Confusion Matrix\n",
            "[[632 340]\n",
            " [367 359]]\n",
            "Test Set: 1698\n",
            "Accuracy = 58.362779740871616 %\n"
          ]
        }
      ],
      "source": [
        "from sklearn.metrics import confusion_matrix\n",
        "res = confusion_matrix(test_labels, predictions)\n",
        "print(\"Confusion Matrix\")\n",
        "print(res)\n",
        "print(f\"Test Set: {len(test_data)}\")\n",
        "print(f\"Accuracy = {percentage*100} %\")"
      ],
      "id": "JZsOd812SzAz"
    }
  ],
  "metadata": {
    "accelerator": "GPU",
    "colab": {
      "collapsed_sections": [],
      "name": "Assignment_HOG_2.ipynb",
      "provenance": []
    },
    "kernelspec": {
      "display_name": "Python 3 (ipykernel)",
      "language": "python",
      "name": "python3"
    },
    "language_info": {
      "codemirror_mode": {
        "name": "ipython",
        "version": 3
      },
      "file_extension": ".py",
      "mimetype": "text/x-python",
      "name": "python",
      "nbconvert_exporter": "python",
      "pygments_lexer": "ipython3",
      "version": "3.9.7"
    }
  },
  "nbformat": 4,
  "nbformat_minor": 5
}