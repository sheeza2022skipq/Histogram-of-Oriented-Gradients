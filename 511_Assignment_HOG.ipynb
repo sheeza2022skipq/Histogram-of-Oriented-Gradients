{
  "cells": [
    {
      "cell_type": "code",
      "execution_count": null,
      "id": "D6rtjUTgKThQ",
      "metadata": {
        "colab": {
          "base_uri": "https://localhost:8080/"
        },
        "id": "D6rtjUTgKThQ",
        "outputId": "5da89fe7-ce4f-4d61-e37f-e615c0e51c27"
      },
      "outputs": [
        {
          "output_type": "stream",
          "name": "stdout",
          "text": [
            "Mounted at /content/drive\n"
          ]
        }
      ],
      "source": [
        "from google.colab import drive\n",
        "drive.mount('/content/drive')"
      ]
    },
    {
      "cell_type": "code",
      "execution_count": null,
      "id": "38e11df0",
      "metadata": {
        "id": "38e11df0"
      },
      "outputs": [],
      "source": [
        "import numpy as np \n",
        "import joblib,glob,os,cv2\n",
        "from scipy.ndimage import filters\n",
        "from sklearn.model_selection import train_test_split\n",
        "from sklearn.svm import SVC\n",
        "import matplotlib.pyplot as plt"
      ]
    },
    {
      "cell_type": "code",
      "execution_count": null,
      "id": "7eebf161",
      "metadata": {
        "id": "7eebf161"
      },
      "outputs": [],
      "source": [
        "def get_gradient(im_dx, im_dy): \n",
        "    assert im_dx.shape == im_dy.shape\n",
        "    m, n = im_dx.shape\n",
        "    grad_mag = np.zeros((m, n))\n",
        "    grad_angle = np.zeros((m, n))\n",
        "    for i in range(m):\n",
        "        for j in range(n):\n",
        "            grad_mag[i][j] = np.sqrt(im_dx[i][j] ** 2 + im_dy[i][j] ** 2)\n",
        "            grad_angle[i][j] = np.arctan2(im_dy[i][j], im_dx[i][j])\n",
        "    return grad_mag, grad_angle"
      ]
    },
    {
      "cell_type": "code",
      "execution_count": null,
      "id": "9a219cee",
      "metadata": {
        "id": "9a219cee"
      },
      "outputs": [],
      "source": [
        "def get_angle_bin(angle):\n",
        "    angle_deg = angle * 180 / np.pi\n",
        "    if angle_deg==0:\n",
        "        d1=d2=p1=p2=bit=0\n",
        "        return 0,bit,p1,p2,d1,d2\n",
        "    \n",
        "    \n",
        "    elif angle_deg==20:\n",
        "        d1=d2=p1=p2=bit=0\n",
        "        return 1,bit,p1,p2,d1,d2\n",
        "    \n",
        "    \n",
        "    elif angle_deg==40:\n",
        "        d1=d2=p1=p2=bit=0\n",
        "        return 2,bit,p1,p2,d1,d2\n",
        "    \n",
        "    \n",
        "    elif angle_deg==60:\n",
        "        d1=d2=p1=p2=bit=0\n",
        "        return 3,bit,p1,p2,d1,d2\n",
        "    \n",
        "    \n",
        "    elif angle_deg==80:\n",
        "        d1=d2=p1=p2=bit=0\n",
        "        return 4,bit,p1,p2,d1,d2\n",
        "    \n",
        "    \n",
        "    elif angle_deg==100:\n",
        "        d1=d2=p1=p2=bit=0\n",
        "        return 5,bit,p1,p2,d1,d2\n",
        "    \n",
        "    \n",
        "    elif angle_deg==120:\n",
        "        d1=d2=p1=p2=bit=0\n",
        "        return 6,bit,p1,p2,d1,d2\n",
        "    \n",
        "    \n",
        "    elif angle_deg==140:\n",
        "        d1=d2=p1=p2=bit=0\n",
        "        return 7,bit,p1,p2,d1,d2\n",
        "    \n",
        "    \n",
        "    elif angle_deg==160:\n",
        "        d1=d2=p1=p2=bit=0\n",
        "        return 8,bit,p1,p2,d1,d2\n",
        "    \n",
        "    \n",
        "    elif 0 < angle_deg < 20: \n",
        "        bit=1\n",
        "        d1 = abs(angle_deg-0)\n",
        "        d2 = abs(angle_deg-20)\n",
        "        p1 = d1/20\n",
        "        p2 = d2/20\n",
        "        return 0,bit,p1,p2,d1,d2\n",
        "    \n",
        "    \n",
        "    elif 20 < angle_deg < 40:\n",
        "        bit=1\n",
        "        d1 = abs(angle_deg-20)\n",
        "        d2 = abs(angle_deg-40)\n",
        "        p1 = d1/20\n",
        "        p2 = d2/20\n",
        "        return 1,bit,p1,p2,d1,d2\n",
        "    \n",
        "    \n",
        "    elif 40 < angle_deg < 60:\n",
        "        bit=1\n",
        "        d1 = abs(angle_deg-40)\n",
        "        d2 = abs(angle_deg-60)\n",
        "        p1 = d1/20\n",
        "        p2 = d2/20\n",
        "        return 2,bit,p1,p2,d1,d2\n",
        "    \n",
        "    \n",
        "    elif 60 < angle_deg < 80:\n",
        "        bit=1\n",
        "        d1 = abs(angle_deg-60)\n",
        "        d2 = abs(angle_deg-80)\n",
        "        p1 = d1/20\n",
        "        p2 = d2/20\n",
        "        return 3,bit,p1,p2,d1,d2\n",
        "    \n",
        "    \n",
        "    elif 80 < angle_deg < 100:\n",
        "        bit=1\n",
        "        d1 = abs(angle_deg-80)\n",
        "        d2 = abs(angle_deg-100)\n",
        "        p1 = d1/20\n",
        "        p2 = d2/20\n",
        "        return 4,bit,p1,p2,d1,d2\n",
        "    \n",
        "    \n",
        "    elif 100 < angle_deg < 120:\n",
        "        bit=1\n",
        "        d1 = abs(angle_deg-100)\n",
        "        d2 = abs(angle_deg-120)\n",
        "        p1 = d1/20\n",
        "        p2 = d2/20\n",
        "        return 5,bit,p1,p2,d1,d2\n",
        "    \n",
        "    \n",
        "    elif 120 < angle_deg < 140:\n",
        "        bit=1\n",
        "        d1 = abs(angle_deg-120)\n",
        "        d2 = abs(angle_deg-140)\n",
        "        p1 = d1/20\n",
        "        p2 = d2/20\n",
        "        return 6,bit,p1,p2,d1,d2\n",
        "    \n",
        "    \n",
        "    elif 140 < angle_deg < 160:\n",
        "        bit=1\n",
        "        d1 = abs(angle_deg-140)\n",
        "        d2 = abs(angle_deg-160)\n",
        "        p1 = d1/20\n",
        "        p2 = d2/20\n",
        "        return 7,bit,p1,p2,d1,d2\n",
        "    \n",
        "    \n",
        "    elif 160 < angle_deg < 180:\n",
        "        bit=1\n",
        "        d1 = abs(angle_deg-160)\n",
        "        d2 = abs(angle_deg-180)\n",
        "        p1 = d1/20\n",
        "        p2 = d2/20\n",
        "        return 8,bit,p1,p2,d1,d2"
      ]
    },
    {
      "cell_type": "code",
      "execution_count": null,
      "id": "7db89260",
      "metadata": {
        "id": "7db89260"
      },
      "outputs": [],
      "source": [
        "def build_histogram(grad_mag, grad_angle, cell_size):\n",
        "    m, n = grad_mag.shape\n",
        "    M = int(m / cell_size)\n",
        "    N = int(n / cell_size)\n",
        "    ori_histo = np.zeros((M, N, 9))\n",
        "    for i in range(M):\n",
        "        for j in range(N):\n",
        "            for x in range(cell_size):\n",
        "                for y in range(cell_size):\n",
        "                    angle = grad_angle[i * cell_size + x][j * cell_size + y]\n",
        "                    mag = grad_mag[i * cell_size + x][j * cell_size + y]\n",
        "                    bin, bit, p1, p2, d1, d2 = get_angle_bin(angle)\n",
        "                    if bit == 0:\n",
        "                        ori_histo[i][j][bin] += mag\n",
        "                    else:\n",
        "                        if bin==8:\n",
        "                            if d2 > d1:\n",
        "                                ori_histo[i][j][bin] += max(p1,p2)*mag\n",
        "                                ori_histo[i][j][0] += min(p1,p2)*mag\n",
        "                            else:\n",
        "                                ori_histo[i][j][0] += max(p1,p2)*mag\n",
        "                                ori_histo[i][j][bin] += min(p1,p2)*mag\n",
        "                        else:\n",
        "                            if d2 > d1:\n",
        "                                ori_histo[i][j][bin] += max(p1,p2)*mag\n",
        "                                ori_histo[i][j][bin+1] += min(p1,p2)*mag\n",
        "                            else:\n",
        "                                ori_histo[i][j][bin+1] += max(p1,p2)*mag\n",
        "                                ori_histo[i][j][bin] += min(p1,p2)*mag\n",
        "                        \n",
        "\n",
        "    return ori_histo"
      ]
    },
    {
      "cell_type": "code",
      "execution_count": null,
      "id": "035fbc35",
      "metadata": {
        "id": "035fbc35"
      },
      "outputs": [],
      "source": [
        "def get_block_descriptor(ori_histo, block_size):\n",
        "    M, N, bins = ori_histo.shape\n",
        "    e = 0.001\n",
        "    ori_histo_normalized = np.zeros((M - block_size + 1, N - block_size + 1, bins * block_size * block_size))\n",
        "    for i in range(M - block_size + 1):\n",
        "        for j in range(N - block_size + 1):\n",
        "            unnormalized = []\n",
        "            for x in range(block_size):\n",
        "                for y in range(block_size):\n",
        "                    for z in range(bins):\n",
        "                        unnormalized.append(ori_histo[i + x][j + y][z])\n",
        "            unnormalized = np.asarray(unnormalized)\n",
        "            den = np.sqrt(np.sum(unnormalized ** 2) + e ** 2)\n",
        "            normalized = unnormalized / den\n",
        "            for p in range(bins * block_size * block_size):\n",
        "                ori_histo_normalized[i][j][p] = normalized[p]\n",
        "            return ori_histo_normalized"
      ]
    },
    {
      "cell_type": "code",
      "execution_count": null,
      "id": "f14b1a0f",
      "metadata": {
        "id": "f14b1a0f"
      },
      "outputs": [],
      "source": [
        "data = []\n",
        "labels = []\n",
        "human_im_path = '/content/drive/My Drive/Dataset/DATAIMAGE/human/'\n",
        "nonhuman_im_path = '/content/drive/My Drive/Dataset/DATAIMAGE/nonhuman/'\n"
      ]
    },
    {
      "cell_type": "code",
      "execution_count": null,
      "id": "a3dcca42",
      "metadata": {
        "id": "a3dcca42"
      },
      "outputs": [],
      "source": [
        "# Load the positive features\n",
        "for filename in glob.glob(os.path.join(human_im_path,\"*.png\")):\n",
        "    im = cv2.imread(filename,0)\n",
        "    im = cv2.resize(im,(64,128))\n",
        "    im_dx = filters.gaussian_filter(im,(3,3),(1,0))\n",
        "    im_dy = filters.gaussian_filter(im,(3,3),(0,1))\n",
        "    grad_mag, grad_angle = get_gradient(im_dx, im_dy)\n",
        "    ori_histo = build_histogram(grad_mag, grad_angle, 8)\n",
        "    ori_histo_normalized = get_block_descriptor(ori_histo, 2)\n",
        "    hog = ori_histo_normalized.reshape((-1))\n",
        "    data.append(hog)\n",
        "    labels.append(1)\n"
      ]
    },
    {
      "cell_type": "code",
      "execution_count": null,
      "id": "YeAzIxsCcBz_",
      "metadata": {
        "colab": {
          "base_uri": "https://localhost:8080/"
        },
        "id": "YeAzIxsCcBz_",
        "outputId": "26b999c3-00e8-4bdb-a509-dd5fbd5b42ab"
      },
      "outputs": [
        {
          "output_type": "execute_result",
          "data": {
            "text/plain": [
              "2426"
            ]
          },
          "metadata": {},
          "execution_count": 13
        }
      ],
      "source": [
        "len(data)"
      ]
    },
    {
      "cell_type": "code",
      "execution_count": null,
      "id": "caB9wY_Za544",
      "metadata": {
        "colab": {
          "base_uri": "https://localhost:8080/"
        },
        "id": "caB9wY_Za544",
        "outputId": "8fadedfe-a3a9-4818-ae7d-0922c681e0ae"
      },
      "outputs": [
        {
          "output_type": "execute_result",
          "data": {
            "text/plain": [
              "(16, 8, 9)"
            ]
          },
          "metadata": {},
          "execution_count": 14
        }
      ],
      "source": [
        "ori_histo.shape"
      ]
    },
    {
      "cell_type": "code",
      "execution_count": null,
      "id": "49f2df34",
      "metadata": {
        "id": "49f2df34"
      },
      "outputs": [],
      "source": [
        "# Load the positive features\n",
        "for filename in glob.glob(os.path.join(nonhuman_im_path,\"*.jpg\")):\n",
        "    im = cv2.imread(filename,0)\n",
        "    im = cv2.resize(im,(64,128))\n",
        "    im_dx = filters.gaussian_filter(im,(3,3),(1,0))\n",
        "    im_dy = filters.gaussian_filter(im,(3,3),(0,1))\n",
        "    grad_mag, grad_angle = get_gradient(im_dx, im_dy)\n",
        "    ori_histo = build_histogram(grad_mag, grad_angle, 8)\n",
        "    ori_histo_normalized = get_block_descriptor(ori_histo, 2)\n",
        "    hog = ori_histo_normalized.reshape((-1))\n",
        "    data.append(hog)\n",
        "    labels.append(0)"
      ]
    },
    {
      "cell_type": "code",
      "execution_count": null,
      "id": "BrlQC89TcOi_",
      "metadata": {
        "colab": {
          "base_uri": "https://localhost:8080/"
        },
        "id": "BrlQC89TcOi_",
        "outputId": "17ff2df2-927a-4317-dca8-d9143f8b8083"
      },
      "outputs": [
        {
          "output_type": "execute_result",
          "data": {
            "text/plain": [
              "5660"
            ]
          },
          "metadata": {},
          "execution_count": 16
        }
      ],
      "source": [
        "len(data)"
      ]
    },
    {
      "cell_type": "code",
      "execution_count": null,
      "id": "uBoBTMoIKgJx",
      "metadata": {
        "colab": {
          "base_uri": "https://localhost:8080/"
        },
        "id": "uBoBTMoIKgJx",
        "outputId": "f019d9ba-4d03-4abf-d192-fa3eef4513cf"
      },
      "outputs": [
        {
          "output_type": "stream",
          "name": "stdout",
          "text": [
            "Labels for training and testing data\n",
            "3961\n",
            "1698\n"
          ]
        }
      ],
      "source": [
        "train_data, test_data, train_labels, test_labels = train_test_split(data, labels, \n",
        "                                                    train_size=0.7,\n",
        "                                                    test_size=0.3,\n",
        "                                                    random_state=0)\n",
        "print(\"Labels for training and testing data\")\n",
        "print(len(train_data))\n",
        "print(len(test_data))"
      ]
    },
    {
      "cell_type": "code",
      "execution_count": null,
      "id": "vPi7OYx5Tf9-",
      "metadata": {
        "colab": {
          "base_uri": "https://localhost:8080/"
        },
        "id": "vPi7OYx5Tf9-",
        "outputId": "22612d12-2ca3-4a43-ce4a-f6643f1fb327"
      },
      "outputs": [
        {
          "output_type": "stream",
          "name": "stdout",
          "text": [
            "3961\n",
            "1698\n"
          ]
        }
      ],
      "source": [
        "print(len(train_labels))\n",
        "print(len(test_labels))"
      ]
    },
    {
      "cell_type": "code",
      "execution_count": null,
      "id": "eb968c2d",
      "metadata": {
        "colab": {
          "base_uri": "https://localhost:8080/"
        },
        "id": "eb968c2d",
        "outputId": "4d1912c4-0ae6-40dd-a1b1-48742d052195"
      },
      "outputs": [
        {
          "output_type": "execute_result",
          "data": {
            "text/plain": [
              "(3780,)"
            ]
          },
          "metadata": {},
          "execution_count": 19
        }
      ],
      "source": [
        "hog.shape"
      ]
    },
    {
      "cell_type": "code",
      "execution_count": null,
      "id": "wvuo2PNQVodA",
      "metadata": {
        "colab": {
          "base_uri": "https://localhost:8080/"
        },
        "id": "wvuo2PNQVodA",
        "outputId": "16552a6b-692a-46b6-cbb0-5a05b15a5b71"
      },
      "outputs": [
        {
          "output_type": "stream",
          "name": "stdout",
          "text": [
            "[0 1]\n"
          ]
        }
      ],
      "source": [
        "labels = np.unique(train_labels)\n",
        "print(labels) "
      ]
    },
    {
      "cell_type": "code",
      "execution_count": null,
      "id": "YLebOgFuKgMr",
      "metadata": {
        "id": "YLebOgFuKgMr"
      },
      "outputs": [],
      "source": [
        "model = SVC(kernel='linear')"
      ]
    },
    {
      "cell_type": "code",
      "execution_count": null,
      "id": "zJQeYNBoKgO9",
      "metadata": {
        "colab": {
          "base_uri": "https://localhost:8080/"
        },
        "id": "zJQeYNBoKgO9",
        "outputId": "4b3d5b83-85db-419c-f75a-74587ebad244"
      },
      "outputs": [
        {
          "output_type": "execute_result",
          "data": {
            "text/plain": [
              "SVC(kernel='linear')"
            ]
          },
          "metadata": {},
          "execution_count": 22
        }
      ],
      "source": [
        "model.fit(train_data, train_labels)"
      ]
    },
    {
      "cell_type": "code",
      "execution_count": null,
      "id": "rPYOhMjGStrC",
      "metadata": {
        "colab": {
          "base_uri": "https://localhost:8080/"
        },
        "id": "rPYOhMjGStrC",
        "outputId": "54ea027c-9b55-4022-b490-810bc8a95717"
      },
      "outputs": [
        {
          "output_type": "stream",
          "name": "stdout",
          "text": [
            "[0 0 1 ... 0 1 0]\n"
          ]
        }
      ],
      "source": [
        "predictions = model.predict(test_data)\n",
        "print(predictions)"
      ]
    },
    {
      "cell_type": "code",
      "execution_count": null,
      "id": "-WofW5_lStuS",
      "metadata": {
        "id": "-WofW5_lStuS"
      },
      "outputs": [],
      "source": [
        "percentage = model.score(test_data, test_labels)"
      ]
    },
    {
      "cell_type": "code",
      "execution_count": null,
      "id": "JZsOd812SzAz",
      "metadata": {
        "colab": {
          "base_uri": "https://localhost:8080/"
        },
        "id": "JZsOd812SzAz",
        "outputId": "70396575-2c4f-4bdb-dcdc-0ecdac57322b"
      },
      "outputs": [
        {
          "output_type": "stream",
          "name": "stdout",
          "text": [
            "Confusion Matrix\n",
            "[[740 232]\n",
            " [457 269]]\n",
            "Test Set: 1698\n",
            "Accuracy = 59.42285041224971 %\n"
          ]
        }
      ],
      "source": [
        "from sklearn.metrics import confusion_matrix\n",
        "res = confusion_matrix(test_labels, predictions)\n",
        "print(\"Confusion Matrix\")\n",
        "print(res)\n",
        "print(f\"Test Set: {len(test_data)}\")\n",
        "print(f\"Accuracy = {percentage*100} %\")"
      ]
    },
    {
      "cell_type": "code",
      "source": [
        ""
      ],
      "metadata": {
        "id": "fVASMVqeRupe"
      },
      "id": "fVASMVqeRupe",
      "execution_count": null,
      "outputs": []
    }
  ],
  "metadata": {
    "accelerator": "GPU",
    "colab": {
      "collapsed_sections": [],
      "name": "511_Assignment_HOG.ipynb",
      "provenance": []
    },
    "kernelspec": {
      "display_name": "Python 3 (ipykernel)",
      "language": "python",
      "name": "python3"
    },
    "language_info": {
      "codemirror_mode": {
        "name": "ipython",
        "version": 3
      },
      "file_extension": ".py",
      "mimetype": "text/x-python",
      "name": "python",
      "nbconvert_exporter": "python",
      "pygments_lexer": "ipython3",
      "version": "3.9.7"
    }
  },
  "nbformat": 4,
  "nbformat_minor": 5
}